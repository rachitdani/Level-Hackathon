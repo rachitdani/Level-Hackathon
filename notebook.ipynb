{
 "cells": [
  {
   "cell_type": "code",
   "execution_count": 1,
   "metadata": {},
   "outputs": [],
   "source": [
    "from langchain.vectorstores.cassandra import Cassandra\n",
    "import cassio"
   ]
  },
  {
   "cell_type": "code",
   "execution_count": 2,
   "metadata": {},
   "outputs": [],
   "source": [
    "import pandas as pd\n",
    "import random\n",
    "\n",
    "num_rows = 1000\n",
    "\n",
    "engagement_data = {\n",
    "        'post_id': list(range(1, num_rows + 1)),\n",
    "        'post_type': [random.choice([\"Photo Posts\",\"Video Posts\",\"Carousel Posts\",\"Instagram Stories\",\"Instagram Reels\",\"Instagram Live\",\"IGTV\",\"Instagram Shopping Posts\",\"Instagram Ads\"]) for _ in range(num_rows)],\n",
    "        'likes': [random.randint(50, 1000) for _ in range(num_rows)],\n",
    "        'shares': [random.randint(5, 200) for _ in range(num_rows)],\n",
    "        'comments': [random.randint(1, 500) for _ in range(num_rows)]\n",
    "    }\n",
    "df = pd.DataFrame(engagement_data)\n",
    "df.to_csv(\"engagement_data.csv\", index=False)"
   ]
  },
  {
   "cell_type": "code",
   "execution_count": 3,
   "metadata": {},
   "outputs": [
    {
     "data": {
      "text/plain": [
       "['Photo Posts',\n",
       " 'Video Posts',\n",
       " 'Instagram Live',\n",
       " 'Instagram Reels',\n",
       " 'Instagram Shopping Posts',\n",
       " 'Instagram Ads',\n",
       " 'IGTV',\n",
       " 'Carousel Posts',\n",
       " 'Instagram Stories']"
      ]
     },
     "execution_count": 3,
     "metadata": {},
     "output_type": "execute_result"
    }
   ],
   "source": [
    "post_types =  list(df[\"post_type\"].unique())\n",
    "post_types"
   ]
  },
  {
   "cell_type": "code",
   "execution_count": 4,
   "metadata": {},
   "outputs": [
    {
     "name": "stdout",
     "output_type": "stream",
     "text": [
      "Connected to Astra DB: ['social_media_data']\n"
     ]
    }
   ],
   "source": [
    "from astrapy import DataAPIClient\n",
    "import os\n",
    "from dotenv import load_dotenv\n",
    "load_dotenv()\n",
    "# Initialize the client\n",
    "client = DataAPIClient(os.getenv(\"ASTRA_DB_APPLICATION_TOKEN\"))\n",
    "db = client.get_database_by_api_endpoint(\n",
    "  \"https://84fa67e8-00d5-46b8-9283-e28598a5dd00-us-east-2.apps.astra.datastax.com\"\n",
    ")\n",
    "\n",
    "print(f\"Connected to Astra DB: {db.list_collection_names()}\")"
   ]
  },
  {
   "cell_type": "code",
   "execution_count": 5,
   "metadata": {},
   "outputs": [
    {
     "name": "stdout",
     "output_type": "stream",
     "text": [
      "Inserted 1000 records into the collection.\n"
     ]
    }
   ],
   "source": [
    "collection = db.get_collection(\"social_media_data\")\n",
    "data_dict = df.to_dict(orient=\"records\")\n",
    "\n",
    "\n",
    "collection.insert_many(data_dict)\n",
    "\n",
    "print(f\"Inserted {len(data_dict)} records into the collection.\")\n"
   ]
  },
  {
   "cell_type": "code",
   "execution_count": 6,
   "metadata": {},
   "outputs": [
    {
     "name": "stdout",
     "output_type": "stream",
     "text": [
      "{'_id': '0b9114ec-319d-427b-9114-ec319d227bd5', 'post_id': 796, 'post_type': 'Instagram Live', 'likes': 56, 'shares': 105, 'comments': 305}\n",
      "{'_id': '8016b583-20fa-4ed6-96b5-8320faded6b7', 'post_id': 498, 'post_type': 'Carousel Posts', 'likes': 838, 'shares': 75, 'comments': 207}\n",
      "{'_id': 'b13bec27-2a29-4f63-bbec-272a29df63e3', 'post_id': 211, 'post_type': 'Video Posts', 'likes': 711, 'shares': 112, 'comments': 416}\n",
      "{'_id': '16858f53-d67f-40c7-858f-53d67ff0c791', 'post_id': 853, 'post_type': 'Instagram Live', 'likes': 639, 'shares': 174, 'comments': 441}\n",
      "{'_id': '33a93e90-1011-4976-a93e-90101119764f', 'post_id': 277, 'post_type': 'Video Posts', 'likes': 85, 'shares': 43, 'comments': 445}\n",
      "{'_id': '73b3c80b-90ac-40e6-b3c8-0b90ac20e6ce', 'post_id': 881, 'post_type': 'Carousel Posts', 'likes': 744, 'shares': 44, 'comments': 3}\n",
      "{'_id': '110b1304-6988-4aa7-8b13-0469881aa756', 'post_id': 956, 'post_type': 'Instagram Reels', 'likes': 272, 'shares': 18, 'comments': 163}\n",
      "{'_id': '01e611ce-923c-470f-a611-ce923c870f9d', 'post_id': 307, 'post_type': 'Instagram Ads', 'likes': 549, 'shares': 61, 'comments': 463}\n",
      "{'_id': '7af1baf6-b82a-4944-b1ba-f6b82ae94436', 'post_id': 377, 'post_type': 'Instagram Stories', 'likes': 688, 'shares': 13, 'comments': 347}\n",
      "{'_id': 'ec00dfbb-7058-4d9a-80df-bb70584d9a12', 'post_id': 756, 'post_type': 'Photo Posts', 'likes': 732, 'shares': 10, 'comments': 173}\n"
     ]
    }
   ],
   "source": [
    "i=0\n",
    "for record in collection.find():\n",
    "    if i ==10:\n",
    "        break\n",
    "    print(record)\n",
    "    i+=1"
   ]
  },
  {
   "cell_type": "code",
   "execution_count": 7,
   "metadata": {},
   "outputs": [],
   "source": [
    "from astrapy.client import DataAPIClient\n",
    "\n",
    "def analyze_post_performance(post_type):\n",
    "    # Connect to Astra DB\n",
    "    client = DataAPIClient(os.getenv(\"ASTRA_DB_APPLICATION_TOKEN\"))\n",
    "    db = client.get_database_by_api_endpoint(\n",
    "        \"https://84fa67e8-00d5-46b8-9283-e28598a5dd00-us-east-2.apps.astra.datastax.com\"\n",
    "    )\n",
    "    collection = db.get_collection(\"social_media_data\")\n",
    "    \n",
    "    # Fetch data for the specified post_type\n",
    "    documents = collection.find({\"post_type\": post_type})\n",
    "    \n",
    "    # Calculate average metrics\n",
    "    metrics = {\"likes\": 0, \"shares\": 0, \"comments\": 0}\n",
    "    count = 0\n",
    "    for doc in documents:\n",
    "        metrics[\"likes\"] += doc[\"likes\"]\n",
    "        metrics[\"shares\"] += doc[\"shares\"]\n",
    "        metrics[\"comments\"] += doc[\"comments\"]\n",
    "        count += 1\n",
    "    \n",
    "    if count > 0:\n",
    "        metrics = {key: value / count for key, value in metrics.items()}\n",
    "    \n",
    "    return metrics\n"
   ]
  },
  {
   "cell_type": "code",
   "execution_count": 8,
   "metadata": {},
   "outputs": [
    {
     "name": "stdout",
     "output_type": "stream",
     "text": [
      "For Post type : Photo Posts\n",
      "{'likes': 519.1333333333333, 'shares': 105.85, 'comments': 233.38095238095238}\n",
      "For Post type : Video Posts\n",
      "{'likes': 529.7156177156177, 'shares': 99.53379953379954, 'comments': 248.1864801864802}\n",
      "For Post type : Instagram Live\n",
      "{'likes': 548.7288888888888, 'shares': 105.91777777777777, 'comments': 262.20222222222225}\n",
      "For Post type : Instagram Reels\n",
      "{'likes': 541.0728929384966, 'shares': 106.54669703872437, 'comments': 256.6104783599089}\n",
      "For Post type : Instagram Shopping Posts\n",
      "{'likes': 520.496583143508, 'shares': 102.68564920273349, 'comments': 261.01822323462414}\n",
      "For Post type : Instagram Ads\n",
      "{'likes': 511.76119402985074, 'shares': 102.88059701492537, 'comments': 260.3944562899787}\n",
      "For Post type : IGTV\n",
      "{'likes': 540.7668997668998, 'shares': 104.2027972027972, 'comments': 260.05827505827506}\n",
      "For Post type : Carousel Posts\n",
      "{'likes': 546.5704845814978, 'shares': 99.86123348017621, 'comments': 250.9713656387665}\n",
      "For Post type : Instagram Stories\n",
      "{'likes': 530.9002123142251, 'shares': 101.70912951167728, 'comments': 251.12738853503186}\n"
     ]
    }
   ],
   "source": [
    "for type in post_types:\n",
    "    print(f\"For Post type : {type}\")\n",
    "    metrics = analyze_post_performance(post_type=type)\n",
    "    print(metrics)"
   ]
  },
  {
   "cell_type": "code",
   "execution_count": 9,
   "metadata": {},
   "outputs": [],
   "source": [
    "def calculate_percentage_difference(old_value, new_value):\n",
    "    if old_value == 0:\n",
    "        return 0  # Avoid division by zero, return 0 if the old value is 0\n",
    "    return ((new_value - old_value) / old_value) * 100"
   ]
  },
  {
   "cell_type": "code",
   "execution_count": 10,
   "metadata": {},
   "outputs": [],
   "source": [
    "from langchain_openai import ChatOpenAI\n",
    "from langchain.prompts.chat import ChatPromptTemplate\n",
    "\n",
    "def generate_insights(metrics, selected_metrics, post_type, comparison):\n",
    "    openai_api_key = os.getenv(\"OPENAI_API_KEY\")\n",
    "    chat = ChatOpenAI(temperature=0.7, model=\"gpt-4o\", openai_api_key=openai_api_key)\n",
    "\n",
    "    # Calculate percentage differences between selected post type and others\n",
    "    comparison_data = {} \n",
    "    for post, post_metrics in comparison.items():\n",
    "        if post == post_type: #Skipping the current post type\n",
    "            continue\n",
    "        likes_diff = calculate_percentage_difference(post_metrics[\"likes\"], selected_metrics[\"likes\"])\n",
    "        shares_diff = calculate_percentage_difference(post_metrics[\"shares\"], selected_metrics[\"shares\"])\n",
    "        comments_diff = calculate_percentage_difference(post_metrics[\"comments\"], selected_metrics[\"comments\"])\n",
    "        \n",
    "        comparison_data[post] = {\n",
    "            \"likes_diff\": likes_diff,\n",
    "            \"shares_diff\": shares_diff,\n",
    "            \"comments_diff\": comments_diff\n",
    "        }\n",
    "\n",
    "    # Format the comparison data into a string for inclusion in the prompt\n",
    "    comparison_data_str = \"\"\n",
    "    for post, data in comparison_data.items():\n",
    "        comparison_data_str += f\"- {post.capitalize()} Posts: Likes: {data['likes_diff']:.2f}%, Shares: {data['shares_diff']:.2f}%, Comments: {data['comments_diff']:.2f}%; \"\n",
    "\n",
    "\n",
    "    # Ensure there's no extra newline at the end of the string\n",
    "    comparison_data_str = comparison_data_str.strip()\n",
    "\n",
    "    # Create the prompt\n",
    "    prompt = ChatPromptTemplate.from_template(\"\"\"\n",
    "    You are an expert in social media post performance analysis. Based on the following average engagement metrics for {post_type} posts, provide insights and suggest how this post type performs overall:\n",
    "    - Average Likes: {likes}\n",
    "    - Average Shares: {shares}\n",
    "    - Average Comments: {comments}\n",
    "\n",
    "    Additionally, compare this post type with other post types and provide insights based on the following percentage differences in engagement:\n",
    "    {comparison_data}\n",
    "    \n",
    "    Provide a bullet-point summary of the performance insights for {post_type} posts, including how this post type compares with others in terms of likes, shares, and comments.\n",
    "    \"\"\")\n",
    "\n",
    "    # Invoke the model to get the response\n",
    "    response = chat.invoke(\n",
    "        prompt.format_prompt(\n",
    "            post_type=post_type.capitalize(),\n",
    "            likes=metrics[\"likes\"],\n",
    "            shares=metrics[\"shares\"],\n",
    "            comments=metrics[\"comments\"],\n",
    "            comparison_data=comparison_data_str\n",
    "        ).to_messages()\n",
    "    )\n",
    "\n",
    "    general_insight = response.content\n",
    "    return general_insight\n"
   ]
  }
 ],
 "metadata": {
  "kernelspec": {
   "display_name": "Python 3.12.4 ('levelhackathon': venv)",
   "language": "python",
   "name": "python3"
  },
  "language_info": {
   "codemirror_mode": {
    "name": "ipython",
    "version": 3
   },
   "file_extension": ".py",
   "mimetype": "text/x-python",
   "name": "python",
   "nbconvert_exporter": "python",
   "pygments_lexer": "ipython3",
   "version": "3.12.4"
  },
  "orig_nbformat": 4,
  "vscode": {
   "interpreter": {
    "hash": "9f1119968d220a183c61a4678a0b32c62319aa78ad2fc0c833daa9689a471f5a"
   }
  }
 },
 "nbformat": 4,
 "nbformat_minor": 2
}
